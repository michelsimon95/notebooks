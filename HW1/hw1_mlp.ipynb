{
 "cells": [
  {
   "cell_type": "markdown",
   "metadata": {},
   "source": [
    "Before you turn this problem in, make sure everything runs as expected. First, **restart the kernel** (in the menubar, select Kernel$\\rightarrow$Restart) and then **run all cells** (in the menubar, select Cell$\\rightarrow$Run All).\n",
    "\n",
    "Make sure you fill in any place that says `YOUR CODE HERE`, as well as your email used on the [moodle](https://moodle.ens.psl.eu/user/index.php?id=1020) below:"
   ]
  },
  {
   "cell_type": "code",
   "execution_count": null,
   "metadata": {},
   "outputs": [],
   "source": [
    "NAME = \"Simon\""
   ]
  },
  {
   "cell_type": "markdown",
   "metadata": {},
   "source": [
    "---"
   ]
  },
  {
   "cell_type": "markdown",
   "metadata": {
    "colab_type": "text",
    "deletable": false,
    "editable": false,
    "id": "djSVCMmseS2U",
    "nbgrader": {
     "cell_type": "markdown",
     "checksum": "8ac3902b734f2d72ce4d0fdbd73b03a5",
     "grade": false,
     "grade_id": "title_hw1",
     "locked": true,
     "schema_version": 3,
     "solution": false,
     "task": false
    }
   },
   "source": [
    "# Homewrok 1: MLP from scratch\n",
    "\n",
    "In this homework, you will code a [Multilayer perceptron](https://en.wikipedia.org/wiki/Multilayer_perceptron) with one hidden layer to classify cloud of points in 2D."
   ]
  },
  {
   "cell_type": "markdown",
   "metadata": {
    "colab_type": "text",
    "deletable": false,
    "editable": false,
    "id": "PZyQNng_eS2X",
    "nbgrader": {
     "cell_type": "markdown",
     "checksum": "6b8d564524c2b05f97c4102340d244de",
     "grade": false,
     "grade_id": "cell-e29089e9d1a36579",
     "locked": true,
     "schema_version": 3,
     "solution": false,
     "task": false
    }
   },
   "source": [
    "## 1. Some utilities and your dataset\n",
    "\n",
    "You should not modify the code in this section"
   ]
  },
  {
   "cell_type": "code",
   "execution_count": null,
   "metadata": {
    "colab": {},
    "colab_type": "code",
    "deletable": false,
    "editable": false,
    "id": "HqqgR2VseS2Z",
    "nbgrader": {
     "cell_type": "code",
     "checksum": "c16159a03832fcb030914a05285910b0",
     "grade": false,
     "grade_id": "imports",
     "locked": true,
     "schema_version": 3,
     "solution": false,
     "task": false
    }
   },
   "outputs": [],
   "source": [
    "# all of these libraries are used for plotting\n",
    "import numpy as np\n",
    "import matplotlib.pyplot as plt\n",
    "\n",
    "# Plot the dataset\n",
    "def plot_data(ax, X, Y):\n",
    "    plt.axis('off')\n",
    "    ax.scatter(X[:, 0], X[:, 1], s=1, c=Y, cmap='bone')"
   ]
  },
  {
   "cell_type": "code",
   "execution_count": null,
   "metadata": {
    "colab": {},
    "colab_type": "code",
    "deletable": false,
    "editable": false,
    "id": "x8mjvwU3eS2g",
    "nbgrader": {
     "cell_type": "code",
     "checksum": "74a5a1f86df1270117e61b98f474c985",
     "grade": false,
     "grade_id": "cell-3d06a5bb21404917",
     "locked": true,
     "schema_version": 3,
     "solution": false,
     "task": false
    }
   },
   "outputs": [],
   "source": [
    "from sklearn.datasets import make_moons\n",
    "X, Y = make_moons(n_samples=2000, noise=0.1)\n",
    "\n",
    "%matplotlib inline\n",
    "x_min, x_max = -1.5, 2.5\n",
    "y_min, y_max = -1, 1.5\n",
    "fig, ax = plt.subplots(1, 1, facecolor='#4B6EA9')\n",
    "ax.set_xlim(x_min, x_max)\n",
    "ax.set_ylim(y_min, y_max)\n",
    "plot_data(ax, X, Y)\n",
    "plt.show()"
   ]
  },
  {
   "cell_type": "markdown",
   "metadata": {
    "colab_type": "text",
    "id": "MUyl_bBHeS2l"
   },
   "source": [
    "This is your dataset: two moons each one corresponding to one class (black or white in the picture above).\n",
    "\n",
    "In order to make it more fun and illustrative, the code below allows you to see the decision boundary of your classifier. Unfortunately, animation is not working on colab..."
   ]
  },
  {
   "cell_type": "code",
   "execution_count": null,
   "metadata": {
    "colab": {},
    "colab_type": "code",
    "deletable": false,
    "editable": false,
    "id": "GoWsSVqyeS2m",
    "nbgrader": {
     "cell_type": "code",
     "checksum": "ab37537bc46ccd6bdb543f48b4f0289e",
     "grade": false,
     "grade_id": "cell-70fd6e2fb16a1956",
     "locked": true,
     "schema_version": 3,
     "solution": false,
     "task": false
    }
   },
   "outputs": [],
   "source": [
    "# Define the grid on which we will evaluate our classifier\n",
    "xx, yy = np.meshgrid(np.arange(x_min, x_max, .1),\n",
    "                     np.arange(y_min, y_max, .1))\n",
    "\n",
    "to_forward = np.array(list(zip(xx.ravel(), yy.ravel())))\n",
    "\n",
    "# plot the decision boundary of our classifier\n",
    "def plot_decision_boundary(ax, X, Y, classifier):\n",
    "    # forward pass on the grid, then convert to numpy for plotting\n",
    "    Z = classifier.forward(to_forward)\n",
    "    Z = Z.reshape(xx.shape)\n",
    "    \n",
    "    # plot contour lines of the values of our classifier on the grid\n",
    "    ax.contourf(xx, yy, Z>0.5, cmap='Blues')\n",
    "    \n",
    "    # then plot the dataset\n",
    "    plot_data(ax, X,Y)"
   ]
  },
  {
   "cell_type": "markdown",
   "metadata": {
    "colab_type": "text",
    "id": "BTZ6xvA1eS2p"
   },
   "source": [
    "## 2. MLP in numpy\n",
    "\n",
    "Here you need to code your implementation of the [ReLU](https://en.wikipedia.org/wiki/Rectifier_(neural_networks) activation and the [Sigmoid](https://en.wikipedia.org/wiki/Sigmoid_function)."
   ]
  },
  {
   "cell_type": "code",
   "execution_count": null,
   "metadata": {
    "colab": {},
    "colab_type": "code",
    "deletable": false,
    "id": "sJ6LtMH1eS2q",
    "nbgrader": {
     "cell_type": "code",
     "checksum": "7a7eabccab419b62d54ba2f87c89027b",
     "grade": false,
     "grade_id": "relu_sigmoid",
     "locked": false,
     "schema_version": 3,
     "solution": true,
     "task": false
    }
   },
   "outputs": [],
   "source": [
    "class MyReLU(object):\n",
    "    def forward(self, x):\n",
    "        # the relu is y_i = max(0, x_i)\n",
    "        # YOUR CODE HERE\n",
    "        raise NotImplementedError()\n",
    "        \n",
    "    \n",
    "    def backward(self, grad_output):\n",
    "        # the gradient is 1 for the inputs that were above 0, 0 elsewhere\n",
    "        # YOUR CODE HERE\n",
    "        raise NotImplementedError()\n",
    "    \n",
    "    def step(self, learning_rate):\n",
    "        # no need to do anything here, since ReLU has no parameters\n",
    "        # YOUR CODE HERE\n",
    "        raise NotImplementedError()\n",
    "\n",
    "class MySigmoid(object):\n",
    "    def forward(self, x):\n",
    "        # the sigmoid is y_i = 1./(1+exp(-x_i))\n",
    "        # YOUR CODE HERE\n",
    "        raise NotImplementedError()\n",
    "    \n",
    "    def backward(self, grad_output):\n",
    "        # the partial derivative is e^-x / (e^-x + 1)^2\n",
    "        # YOUR CODE HERE\n",
    "        raise NotImplementedError()\n",
    "    \n",
    "    def step(self, learning_rate):\n",
    "        # no need to do anything here since Sigmoid has no parameters\n",
    "        # YOUR CODE HERE\n",
    "        raise NotImplementedError()"
   ]
  },
  {
   "cell_type": "markdown",
   "metadata": {
    "colab_type": "text",
    "id": "EQxNrlBIeS2u"
   },
   "source": [
    "Probably a good time to test your functions..."
   ]
  },
  {
   "cell_type": "code",
   "execution_count": null,
   "metadata": {
    "colab": {},
    "colab_type": "code",
    "deletable": false,
    "editable": false,
    "id": "RJ1zsgvqeS2v",
    "nbgrader": {
     "cell_type": "code",
     "checksum": "ace7b130167565415ffa90a68eb1462b",
     "grade": true,
     "grade_id": "test_relu_forward",
     "locked": true,
     "points": 1,
     "schema_version": 3,
     "solution": false,
     "task": false
    }
   },
   "outputs": [],
   "source": [
    "test_relu = MyReLU()\n",
    "test_relu.forward(X[10])"
   ]
  },
  {
   "cell_type": "code",
   "execution_count": null,
   "metadata": {
    "colab": {},
    "colab_type": "code",
    "deletable": false,
    "editable": false,
    "id": "S9Y4EXbUeS2y",
    "nbgrader": {
     "cell_type": "code",
     "checksum": "423b046a69fe3da7ab3c338572065e80",
     "grade": true,
     "grade_id": "test_relu_back",
     "locked": true,
     "points": 1,
     "schema_version": 3,
     "solution": false,
     "task": false
    }
   },
   "outputs": [],
   "source": [
    "test_relu.backward(1.)"
   ]
  },
  {
   "cell_type": "code",
   "execution_count": null,
   "metadata": {
    "colab": {},
    "colab_type": "code",
    "deletable": false,
    "editable": false,
    "id": "6W5OADrqeS22",
    "nbgrader": {
     "cell_type": "code",
     "checksum": "2c6b55c91cc2cc79b1236ed852da94e6",
     "grade": true,
     "grade_id": "test_sigmoid_forward",
     "locked": true,
     "points": 1,
     "schema_version": 3,
     "solution": false,
     "task": false
    }
   },
   "outputs": [],
   "source": [
    "test_sig = MySigmoid()\n",
    "\n",
    "test_sig.forward(np.ones(1))"
   ]
  },
  {
   "cell_type": "code",
   "execution_count": null,
   "metadata": {
    "colab": {},
    "colab_type": "code",
    "deletable": false,
    "editable": false,
    "id": "FQpgqhC4eS25",
    "nbgrader": {
     "cell_type": "code",
     "checksum": "0fd5466912d53c988e550efc669d6132",
     "grade": true,
     "grade_id": "test_sigmoid_back",
     "locked": true,
     "points": 1,
     "schema_version": 3,
     "solution": false,
     "task": false
    }
   },
   "outputs": [],
   "source": [
    "test_sig.backward(np.ones(1))"
   ]
  },
  {
   "cell_type": "markdown",
   "metadata": {
    "colab_type": "text",
    "id": "eyEOtDH2eS28"
   },
   "source": [
    "A bit more complicated, you need now to implement your linear layer i.e. multiplication by a matrix W and summing with a bias b."
   ]
  },
  {
   "cell_type": "code",
   "execution_count": null,
   "metadata": {
    "colab": {},
    "colab_type": "code",
    "deletable": false,
    "id": "4HUqnv4eeS29",
    "nbgrader": {
     "cell_type": "code",
     "checksum": "b162b145b950734410d459db1e5125c3",
     "grade": false,
     "grade_id": "cell-7ade3f01e5578739",
     "locked": false,
     "schema_version": 3,
     "solution": true,
     "task": false
    }
   },
   "outputs": [],
   "source": [
    "class MyLinear(object):\n",
    "    def __init__(self, n_input, n_output):\n",
    "        # initialize two random matrices for W and b (use np.random.randn)\n",
    "        # YOUR CODE HERE\n",
    "        raise NotImplementedError()\n",
    "\n",
    "    def forward(self, x):\n",
    "        # save a copy of x, you'll need it for the backward\n",
    "        # return Wx + b\n",
    "        # YOUR CODE HERE\n",
    "        raise NotImplementedError()\n",
    "\n",
    "    def backward(self, grad_output):\n",
    "        # y_i = \\sum_j W_{i,j} x_j + b_i\n",
    "        # d y_i / d W_{i, j} = x_j\n",
    "        # d loss / d y_i = grad_output[i]\n",
    "        # so d loss / d W_{i,j} = x_j * grad_output[i]  (by the chain rule)\n",
    "        # YOUR CODE HERE\n",
    "        raise NotImplementedError()\n",
    "        \n",
    "        # d y_i / d b_i = 1\n",
    "        # d loss / d y_i = grad_output[i]\n",
    "        # YOUR CODE HERE\n",
    "        raise NotImplementedError()\n",
    "        \n",
    "        # now we need to compute the gradient with respect to x to continue the back propagation\n",
    "        # d y_i / d x_j = W_{i, j}\n",
    "        # to compute the gradient of the loss, we have to sum over all possible y_i in the chain rule\n",
    "        # d loss / d x_j = \\sum_i (d loss / d y_i) (d y_i / d x_j)\n",
    "        # YOUR CODE HERE\n",
    "        raise NotImplementedError()\n",
    "    \n",
    "    def step(self, learning_rate):\n",
    "        # update self.W and self.b in the opposite direction of the stored gradients, for learning_rate\n",
    "        # YOUR CODE HERE\n",
    "        raise NotImplementedError()"
   ]
  },
  {
   "cell_type": "markdown",
   "metadata": {
    "colab_type": "text",
    "id": "iA6lwIrxeS3A"
   },
   "source": [
    "As we did in practicals, you need now to code your network (what we called my_composition in the [practicals](https://github.com/dataflowr/notebooks/blob/master/Module2/02_backprop.ipynb)). Recall with a Sigmoid layer, you should use the BCE loss."
   ]
  },
  {
   "cell_type": "code",
   "execution_count": null,
   "metadata": {
    "colab": {},
    "colab_type": "code",
    "deletable": false,
    "id": "hsehcwzheS3B",
    "nbgrader": {
     "cell_type": "code",
     "checksum": "956c7e7e8978bb5b077cfa05959e7daf",
     "grade": false,
     "grade_id": "cell-93ab1f8dae5b004c",
     "locked": false,
     "schema_version": 3,
     "solution": true,
     "task": false
    }
   },
   "outputs": [],
   "source": [
    "class Sequential(object):\n",
    "    def __init__(self, layers):\n",
    "        # YOUR CODE HERE\n",
    "        raise NotImplementedError()\n",
    "        \n",
    "    def forward(self, x):\n",
    "        # YOUR CODE HERE\n",
    "        raise NotImplementedError()\n",
    "    \n",
    "    def compute_loss(self, out, label):\n",
    "        # use the BCE loss\n",
    "        # -(label * log(output) + (1-label) * log(1-output))\n",
    "        # save the gradient, and return the loss      \n",
    "        # beware of dividing by zero in the gradient.\n",
    "        # split the computation in two cases, one where the label is 0 and another one where the label is 1\n",
    "        # add a small value (1e-10) to the denominator\n",
    "        # YOUR CODE HERE\n",
    "        raise NotImplementedError()\n",
    "\n",
    "    def backward(self):\n",
    "        # apply backprop sequentially, starting from the gradient of the loss\n",
    "        # YOUR CODE HERE\n",
    "        raise NotImplementedError()\n",
    "    \n",
    "    def step(self, learning_rate):\n",
    "        # take a gradient step for each layers\n",
    "        # YOUR CODE HERE\n",
    "        raise NotImplementedError()"
   ]
  },
  {
   "cell_type": "code",
   "execution_count": null,
   "metadata": {
    "colab": {},
    "colab_type": "code",
    "deletable": false,
    "id": "j34an0e0eS3E",
    "nbgrader": {
     "cell_type": "code",
     "checksum": "d1cd61fcd3516d191226128764ab1e33",
     "grade": false,
     "grade_id": "cell-636eaf9a435df9fa",
     "locked": false,
     "schema_version": 3,
     "solution": true,
     "task": false
    }
   },
   "outputs": [],
   "source": [
    "h=50\n",
    "\n",
    "# define your network with your Sequential\n",
    "# it should be a linear layer with 2 inputs and h outputs, followed by a ReLU\n",
    "# then a linear layer with h inputs and 1 outputs, followed by a sigmoid\n",
    "# feel free to try other architectures\n",
    "\n",
    "# YOUR CODE HERE\n",
    "raise NotImplementedError()"
   ]
  },
  {
   "cell_type": "code",
   "execution_count": null,
   "metadata": {
    "colab": {},
    "colab_type": "code",
    "deletable": false,
    "id": "d6HBYWoJeS3H",
    "nbgrader": {
     "cell_type": "code",
     "checksum": "17747e3265d9d5fa31e5bf382e4a2e0d",
     "grade": false,
     "grade_id": "cell-567417e728dc6124",
     "locked": false,
     "schema_version": 3,
     "solution": true,
     "task": false
    }
   },
   "outputs": [],
   "source": [
    "# unfortunately animation is not working on colab\n",
    "# you should comment the following line if on colab\n",
    "%matplotlib notebook\n",
    "fig, ax = plt.subplots(1, 1, facecolor='#4B6EA9')\n",
    "ax.set_xlim(x_min, x_max)\n",
    "ax.set_ylim(y_min, y_max)\n",
    "losses = []\n",
    "learning_rate = 1e-2\n",
    "for it in range(10000):\n",
    "    # pick a random example id\n",
    "    j = np.random.randint(1, len(X))\n",
    "\n",
    "    # select the corresponding example and label\n",
    "    example = X[j:j+1]\n",
    "    label = Y[j]\n",
    "\n",
    "    # do a forward pass on the example\n",
    "    # YOUR CODE HERE\n",
    "    raise NotImplementedError()\n",
    "\n",
    "    # compute the loss according to your output and the label\n",
    "    # YOUR CODE HERE\n",
    "    raise NotImplementedError()\n",
    "    \n",
    "    # backward pass\n",
    "    # YOUR CODE HERE\n",
    "    raise NotImplementedError()\n",
    "    \n",
    "    # gradient step\n",
    "    # YOUR CODE HERE\n",
    "    raise NotImplementedError()\n",
    "\n",
    "    # draw the current decision boundary every 250 examples seen\n",
    "    if it % 250 == 0 : \n",
    "        plot_decision_boundary(ax, X,Y, net)\n",
    "        fig.canvas.draw()\n",
    "plot_decision_boundary(ax, X,Y, net)\n",
    "fig.canvas.draw()"
   ]
  },
  {
   "cell_type": "code",
   "execution_count": null,
   "metadata": {
    "colab": {},
    "colab_type": "code",
    "deletable": false,
    "editable": false,
    "id": "PAOZgdrfeS3K",
    "nbgrader": {
     "cell_type": "code",
     "checksum": "f069b27fd0d49b57d700ba534d148e0f",
     "grade": true,
     "grade_id": "cell-7a63b23ed2055417",
     "locked": true,
     "points": 1,
     "schema_version": 3,
     "solution": false,
     "task": false
    }
   },
   "outputs": [],
   "source": [
    "%matplotlib inline\n",
    "plt.plot(losses)"
   ]
  },
  {
   "cell_type": "markdown",
   "metadata": {
    "colab_type": "text",
    "id": "9FPTiWyzeS3N"
   },
   "source": [
    "## 3. Using a Pytorch module\n",
    "\n",
    "In this last part, use `toch.nn.Module` to recode `MyLinear` and `MyReLU` so that these modules will be pytorch compatible."
   ]
  },
  {
   "cell_type": "code",
   "execution_count": null,
   "metadata": {
    "colab": {},
    "colab_type": "code",
    "deletable": false,
    "id": "hUsYbOD5eS3O",
    "nbgrader": {
     "cell_type": "code",
     "checksum": "7e19e3da7f7d4b98d76a7e7fb435d522",
     "grade": false,
     "grade_id": "cell-c1cd0e247fe962e5",
     "locked": false,
     "schema_version": 3,
     "solution": true,
     "task": false
    }
   },
   "outputs": [],
   "source": [
    "import torch\n",
    "import torch.nn as nn\n",
    "\n",
    "# y = Wx + b\n",
    "class MyLinear_mod(nn.Module):\n",
    "    def __init__(self, n_input, n_output):\n",
    "        super(MyLinear_mod, self).__init__()\n",
    "        # define self.A and self.b the weights and biases\n",
    "        # initialize them with a normal distribution\n",
    "        # use nn.Parameters\n",
    "        # YOUR CODE HERE\n",
    "        raise NotImplementedError()\n",
    "\n",
    "    def forward(self, x):\n",
    "        # YOUR CODE HERE\n",
    "        raise NotImplementedError()\n",
    "        \n",
    "class MyReLU_mod(nn.Module):\n",
    "    def __init__(self):\n",
    "        super(MyReLU_mod, self).__init__()\n",
    "        \n",
    "    def forward(self, x):\n",
    "        # YOUR CODE HERE\n",
    "        raise NotImplementedError()"
   ]
  },
  {
   "cell_type": "code",
   "execution_count": null,
   "metadata": {
    "colab": {},
    "colab_type": "code",
    "id": "5FYjrvdKeS3R"
   },
   "outputs": [],
   "source": [
    "# the grid for plotting the decision boundary should be now made of tensors.\n",
    "to_forward = torch.from_numpy(np.array(list(zip(xx.ravel(), yy.ravel())))).float()"
   ]
  },
  {
   "cell_type": "markdown",
   "metadata": {
    "colab_type": "text",
    "id": "az5qbc5seS3U"
   },
   "source": [
    "Define your network using `MyLinear_mod`, `MyReLU_mod` and [`nn.Sigmoid`](https://pytorch.org/docs/stable/nn.html#sigmoid)"
   ]
  },
  {
   "cell_type": "code",
   "execution_count": null,
   "metadata": {
    "colab": {},
    "colab_type": "code",
    "deletable": false,
    "id": "rEh0d3A2eS3U",
    "nbgrader": {
     "cell_type": "code",
     "checksum": "47b05527c6e31658e252997f76536863",
     "grade": false,
     "grade_id": "cell-e41499fac22646e2",
     "locked": false,
     "schema_version": 3,
     "solution": true,
     "task": false
    }
   },
   "outputs": [],
   "source": [
    "h=50\n",
    "\n",
    "# define your network with nn.Sequential\n",
    "# use MyLinear_mod, MyReLU_mod and nn.Sigmoid (from pytorch)\n",
    "# YOUR CODE HERE\n",
    "raise NotImplementedError()"
   ]
  },
  {
   "cell_type": "code",
   "execution_count": null,
   "metadata": {
    "colab": {},
    "colab_type": "code",
    "deletable": false,
    "id": "pUVfEkwEeS3X",
    "nbgrader": {
     "cell_type": "code",
     "checksum": "8c978fd5234a276e828f32dd0fb9549d",
     "grade": false,
     "grade_id": "cell-1ddb58ff08fece82",
     "locked": false,
     "schema_version": 3,
     "solution": true,
     "task": false
    }
   },
   "outputs": [],
   "source": [
    "from torch import optim\n",
    "optimizer = optim.SGD(net.parameters(), lr=1e-2)\n",
    "\n",
    "X_torch = torch.from_numpy(X).float()\n",
    "Y_torch = torch.from_numpy(Y).float()\n",
    "\n",
    "# you should comment the following line if on colab\n",
    "%matplotlib notebook\n",
    "fig, ax = plt.subplots(1, 1, facecolor='#4B6EA9')\n",
    "ax.set_xlim(x_min, x_max)\n",
    "ax.set_ylim(y_min, y_max)\n",
    "\n",
    "losses = []\n",
    "criterion = nn.BCELoss()\n",
    "for it in range(10000):\n",
    "    # pick a random example id \n",
    "    j = np.random.randint(1, len(X))\n",
    "\n",
    "    # select the corresponding example and label\n",
    "    example = X_torch[j:j+1]\n",
    "    label = Y_torch[j:j+1].unsqueeze(1)\n",
    "\n",
    "    # do a forward pass on the example\n",
    "    # YOUR CODE HERE\n",
    "    raise NotImplementedError()\n",
    "\n",
    "    # compute the loss according to your output and the label\n",
    "    # YOUR CODE HERE\n",
    "    raise NotImplementedError()\n",
    "\n",
    "    # zero the gradients\n",
    "    # YOUR CODE HERE\n",
    "    raise NotImplementedError()\n",
    "\n",
    "    # backward pass\n",
    "    # YOUR CODE HERE\n",
    "    raise NotImplementedError()\n",
    "\n",
    "    # gradient step\n",
    "    # YOUR CODE HERE\n",
    "    raise NotImplementedError()\n",
    "\n",
    "    # draw the current decision boundary every 250 examples seen\n",
    "    if it % 250 == 0 : \n",
    "        plot_decision_boundary(ax, X,Y, net)\n",
    "        fig.canvas.draw()\n",
    "plot_decision_boundary(ax, X,Y, net)\n",
    "fig.canvas.draw()"
   ]
  },
  {
   "cell_type": "code",
   "execution_count": null,
   "metadata": {
    "colab": {},
    "colab_type": "code",
    "deletable": false,
    "editable": false,
    "id": "K_dzcL3geS3b",
    "nbgrader": {
     "cell_type": "code",
     "checksum": "e5c0dc8dc0eb3bdc621fa33b5a1016ee",
     "grade": true,
     "grade_id": "cell-7a557a898b04e173",
     "locked": true,
     "points": 1,
     "schema_version": 3,
     "solution": false,
     "task": false
    }
   },
   "outputs": [],
   "source": [
    "%matplotlib inline\n",
    "plt.plot(losses)"
   ]
  },
  {
   "cell_type": "code",
   "execution_count": null,
   "metadata": {},
   "outputs": [],
   "source": []
  }
 ],
 "metadata": {
  "anaconda-cloud": {},
  "colab": {
   "include_colab_link": true,
   "name": "hw1_mlp.ipynb",
   "provenance": []
  },
  "kernelspec": {
   "display_name": "dldiy",
   "language": "python",
   "name": "dldiy"
  },
  "language_info": {
   "codemirror_mode": {
    "name": "ipython",
    "version": 3
   },
   "file_extension": ".py",
   "mimetype": "text/x-python",
   "name": "python",
   "nbconvert_exporter": "python",
   "pygments_lexer": "ipython3",
   "version": "3.6.9"
  }
 },
 "nbformat": 4,
 "nbformat_minor": 1
}
